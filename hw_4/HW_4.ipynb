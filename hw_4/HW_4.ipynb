{
 "cells": [
  {
   "cell_type": "markdown",
   "metadata": {},
   "source": [
    "# Crypto Homework 4"
   ]
  },
  {
   "cell_type": "code",
   "execution_count": null,
   "metadata": {},
   "outputs": [],
   "source": [
    "import numpy as np\n",
    "import hashlib as hlib"
   ]
  },
  {
   "cell_type": "code",
   "execution_count": null,
   "metadata": {},
   "outputs": [],
   "source": [
    "from provided_params import *\n",
    "from provided_sol import *"
   ]
  },
  {
   "cell_type": "markdown",
   "metadata": {},
   "source": [
    "### Ex 1: Stop the counter! (ECDSA)"
   ]
  },
  {
   "cell_type": "markdown",
   "metadata": {},
   "source": [
    "We use the `secp256k1` standard for the parameters of the curve. The curve is given by $y^2=x^3+ 7$\n",
    "\n",
    "Provided parameters:\n",
    "* `Q1_G`: point used as a generator for the EC?\n",
    "* `Q1_p`: a prime int used to define the finite field we are working in `GF(p)`\n",
    "* `Q1_pk`: pair of int used as the secretary's public key\n",
    "* \n",
    "* `Q1a_arr`: 30 triplets containing: (\"X voted for Y\" as a msg, r, s)\n",
    "* `Q1a_msg`: SOLUTION\n",
    "* \n",
    "* `Q1b_arr`: 2 valid ballots that were published after the counter was stopped\n",
    "* `Q1b_k`: An int to select a unique solution\n",
    "* `Q1b_r`: SOLUTION\n",
    "* `Q1b_s`: SOLUTION\n",
    "\n",
    "#TODO: Delete the next lines for submission\n",
    "\n",
    "* [Inspiration for SAGE](https://stackoverflow.com/questions/40434409/rdsa-implementation-on-sage)\n",
    "* Ex 1b is the attack against Sony. The r's of 2 messages are the same ==> reuse of a nonce ==> retrieve the secret key: [implemented attack](https://github.com/Marsh61/ECDSA-Nonce-Reuse-Exploit-Example/blob/master/Attack-Main.py)\n",
    "* Something else?"
   ]
  },
  {
   "cell_type": "code",
   "execution_count": null,
   "metadata": {},
   "outputs": [],
   "source": [
    "# Provided code example\n",
    "def msg2int(m):\n",
    "    h_bytes = hlib.sha256(m.encode()).digest()\n",
    "    h = int.from_bytes(h_bytes, \"big\")\n",
    "    return h"
   ]
  },
  {
   "cell_type": "code",
   "execution_count": null,
   "metadata": {},
   "outputs": [],
   "source": [
    "# Initialization\n",
    "EC = EllipticCurve(GF(Q1_p), [0,7])\n",
    "FF_n = FiniteField(EC.order())"
   ]
  },
  {
   "cell_type": "markdown",
   "metadata": {},
   "source": [
    "#### Question a"
   ]
  },
  {
   "cell_type": "markdown",
   "metadata": {},
   "source": [
    "Identify the frauders"
   ]
  },
  {
   "cell_type": "code",
   "execution_count": null,
   "metadata": {},
   "outputs": [],
   "source": [
    "def verify_sign(EC, msg, r, s, G, Q, FF_n):\n",
    "    # Build point G and Q\n",
    "    G_EC = EC(G)\n",
    "    Q_EC = EC(Q)\n",
    "    \n",
    "    # Hash the message and covert it to number\n",
    "    h = msg2int(msg)\n",
    "\n",
    "    # Compute w = 1/s mod p because we use it twice\n",
    "    w = Integer(1/FF_n(s))\n",
    "    \n",
    "    # Compute verification\n",
    "    verif = w*h*G_EC + w*r*Q_EC\n",
    "    \n",
    "    verif_x = verif.xy()[0]\n",
    "    \n",
    "    return r == verif_x"
   ]
  },
  {
   "cell_type": "code",
   "execution_count": null,
   "metadata": {},
   "outputs": [],
   "source": [
    "# Check the signature of every messages\n",
    "for msg, r, s in Q1a_arr:\n",
    "    verif_ok = verify_sign(EC, msg, r, s, Q1_G, Q1_pk, FF_n)\n",
    "    if not verif_ok:\n",
    "        print(msg)"
   ]
  },
  {
   "cell_type": "markdown",
   "metadata": {},
   "source": [
    "#### Question b\n",
    "\n",
    "The main problem here is: How to find `d` from the secret value and the counter? I fact, when we have `d` the problem is utterly easy.\n",
    "\n",
    "```\n",
    "h0 = Hash(message_0)\n",
    "h1 = Hash(message_1)\n",
    "d = Private Key (unknown to attacker)\n",
    "R  = r1 == r2\n",
    "K  = K value that was used (unknown to attacker)\n",
    "N  = integer order of G (part of public key)\n",
    "\n",
    "From Signing Defintion\n",
    "s0 = (h0 + d * R) / K Mod N\n",
    "s1 = (h1 + d * R) / K Mod N\n",
    "\n",
    "Rearrange \n",
    "K = (h0 + d * R) / s0 Mod N\n",
    "K = (h1 + d * R) / s1 Mod N\n",
    "\n",
    "Set Equal\n",
    "(h0 + d * R) / s0 = (h1 + d * R) / s1     Mod N\n",
    "\n",
    "s1*h0 + s1*d*R = s0*h1 + s0*d*R     Mod N\n",
    "\n",
    "(s1*h0 - s0*h1) / (R * (s0-s1)) = d     Mod N\n",
    "\n",
    "Solve for d (private key)\n",
    "d Mod N = (s1 * h0 - s0 * h1) / (R * (s0 - s1))\n",
    "d Mod N = (s1 * h0 - s0 * h1) * (R * (s0 - s1)) ** -1\n",
    "```"
   ]
  },
  {
   "cell_type": "code",
   "execution_count": null,
   "metadata": {},
   "outputs": [],
   "source": [
    "def compute_r(EC, k, G, FF_n):\n",
    "    return FF_n((k * EC(G)).xy()[0])"
   ]
  },
  {
   "cell_type": "code",
   "execution_count": null,
   "metadata": {},
   "outputs": [],
   "source": [
    "def extract_d(ballots, FF_n):\n",
    "    assert(len(ballots) == 2)\n",
    "    msg0, r0, s0 = ballots[0]\n",
    "    msg1, r1, s1 = ballots[1]\n",
    "    \n",
    "    h0 = msg2int(msg0)\n",
    "    h1 = msg2int(msg1)\n",
    "    \n",
    "    s0 = FF_n(s0)\n",
    "    s1 = FF_n(s1)\n",
    "    \n",
    "    # Verify if the attack is feasible\n",
    "    if r0 != r1:\n",
    "        raise Exception('ERROR: the messages you provided are not sensible to this attack')\n",
    "    \n",
    "    d = (s1*h0 - s0*h1) / (r0 *(s0 - s1))\n",
    "    \n",
    "    return d"
   ]
  },
  {
   "cell_type": "code",
   "execution_count": null,
   "metadata": {},
   "outputs": [],
   "source": [
    "def compute_s(h, d, r, k, FF_n):\n",
    "    return FF_n((h + d*r)/k)"
   ]
  },
  {
   "cell_type": "code",
   "execution_count": null,
   "metadata": {},
   "outputs": [],
   "source": [
    "r = compute_r(EC, Q1b_k, Q1_G, FF_n)\n",
    "\n",
    "# Hash the message and build an integer from that\n",
    "m = 'I won this election, by a lot!'\n",
    "h = msg2int(m)\n",
    "\n",
    "# Find d\n",
    "d = extract_d(Q1b_arr, FF_n)\n",
    "\n",
    "# Compute s\n",
    "s = compute_s(h, d, r, Q1b_k, FF_n)"
   ]
  },
  {
   "cell_type": "code",
   "execution_count": null,
   "metadata": {},
   "outputs": [],
   "source": [
    "#TODO: Delete this verification for the submission\n",
    "print(r)\n",
    "print(Q1b_r)\n",
    "print(Q1b_r == r)\n",
    "\n",
    "print()\n",
    "print(s)\n",
    "print(Q1b_s)\n",
    "print(Q1b_s == s)"
   ]
  },
  {
   "cell_type": "markdown",
   "metadata": {},
   "source": [
    "##### SOME TESTS\n",
    "Let's try to compare the `d`'s of the two provided valid messages."
   ]
  },
  {
   "cell_type": "markdown",
   "metadata": {},
   "source": [
    "---\n",
    "\n",
    "### Ex 2"
   ]
  },
  {
   "cell_type": "code",
   "execution_count": null,
   "metadata": {},
   "outputs": [],
   "source": []
  },
  {
   "cell_type": "markdown",
   "metadata": {},
   "source": [
    "---\n",
    "### Ex 3"
   ]
  },
  {
   "cell_type": "code",
   "execution_count": null,
   "metadata": {},
   "outputs": [],
   "source": []
  }
 ],
 "metadata": {
  "kernelspec": {
   "display_name": "SageMath 9.1",
   "language": "sage",
   "name": "sagemath"
  },
  "language_info": {
   "codemirror_mode": {
    "name": "ipython",
    "version": 3
   },
   "file_extension": ".py",
   "mimetype": "text/x-python",
   "name": "python",
   "nbconvert_exporter": "python",
   "pygments_lexer": "ipython3",
   "version": "3.7.8"
  }
 },
 "nbformat": 4,
 "nbformat_minor": 2
}
