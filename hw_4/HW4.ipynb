{
 "cells": [
  {
   "cell_type": "markdown",
   "metadata": {},
   "source": [
    "# Crypto Homework 4"
   ]
  },
  {
   "cell_type": "code",
   "execution_count": null,
   "metadata": {},
   "outputs": [],
   "source": [
    "import numpy as np\n",
    "import hashlib as hlib"
   ]
  },
  {
   "cell_type": "code",
   "execution_count": null,
   "metadata": {},
   "outputs": [],
   "source": [
    "#from provided_params import *\n",
    "#from provided_sol import *"
   ]
  },
  {
   "cell_type": "code",
   "execution_count": null,
   "metadata": {},
   "outputs": [],
   "source": [
    "from sciper_parameters import *"
   ]
  },
  {
   "cell_type": "markdown",
   "metadata": {},
   "source": [
    "### Ex 1: Stop the counter! (ECDSA)"
   ]
  },
  {
   "cell_type": "markdown",
   "metadata": {},
   "source": [
    "We use the `secp256k1` standard for the parameters of the curve. The curve is given by $y^2=x^3+ 7$\n",
    "\n",
    "Provided parameters:\n",
    "* `Q1_G`: point used as a generator for the EC?\n",
    "* `Q1_p`: a prime int used to define the finite field we are working in `GF(p)`\n",
    "* `Q1_pk`: pair of int used as the secretary's public key\n",
    "* \n",
    "* `Q1a_arr`: 30 triplets containing: (\"X voted for Y\" as a msg, r, s)\n",
    "* `Q1a_msg`: SOLUTION\n",
    "* \n",
    "* `Q1b_arr`: 2 valid ballots that were published after the counter was stopped\n",
    "* `Q1b_k`: An int to select a unique solution\n",
    "* `Q1b_r`: SOLUTION\n",
    "* `Q1b_s`: SOLUTION\n",
    "\n",
    "#TODO: Delete the next lines for submission\n",
    "\n",
    "* [Inspiration for SAGE](https://stackoverflow.com/questions/40434409/rdsa-implementation-on-sage)\n",
    "* Ex 1b is the attack against Sony. The r's of 2 messages are the same ==> reuse of a nonce ==> retrieve the secret key: [implemented attack](https://github.com/Marsh61/ECDSA-Nonce-Reuse-Exploit-Example/blob/master/Attack-Main.py)\n",
    "* Something else?"
   ]
  },
  {
   "cell_type": "code",
   "execution_count": null,
   "metadata": {},
   "outputs": [],
   "source": [
    "# Provided code example\n",
    "def msg2int(m):\n",
    "    h_bytes = hlib.sha256(m.encode()).digest()\n",
    "    h = int.from_bytes(h_bytes, \"big\")\n",
    "    return h"
   ]
  },
  {
   "cell_type": "code",
   "execution_count": null,
   "metadata": {},
   "outputs": [],
   "source": [
    "# Initialization\n",
    "EC = EllipticCurve(GF(Q1_p), [0,7])\n",
    "FF_n = FiniteField(EC.order())"
   ]
  },
  {
   "cell_type": "markdown",
   "metadata": {},
   "source": [
    "#### Question a"
   ]
  },
  {
   "cell_type": "markdown",
   "metadata": {},
   "source": [
    "Identify the frauders"
   ]
  },
  {
   "cell_type": "code",
   "execution_count": null,
   "metadata": {},
   "outputs": [],
   "source": [
    "def verify_sign(EC, msg, r, s, G, Q, FF_n):\n",
    "    # Build point G and Q\n",
    "    G_EC = EC(G)\n",
    "    Q_EC = EC(Q)\n",
    "    \n",
    "    # Hash the message and covert it to number\n",
    "    h = msg2int(msg)\n",
    "\n",
    "    # Compute w = 1/s mod p because we use it twice\n",
    "    w = Integer(1/FF_n(s))\n",
    "    \n",
    "    # Compute verification\n",
    "    verif = w*h*G_EC + w*r*Q_EC\n",
    "    \n",
    "    verif_x = verif.xy()[0]\n",
    "    \n",
    "    return r == verif_x"
   ]
  },
  {
   "cell_type": "code",
   "execution_count": null,
   "metadata": {},
   "outputs": [],
   "source": [
    "# Check the signature of every messages\n",
    "for msg, r, s in Q1a_arr:\n",
    "    verif_ok = verify_sign(EC, msg, r, s, Q1_G, Q1_pk, FF_n)\n",
    "    if not verif_ok:\n",
    "        print(msg)"
   ]
  },
  {
   "cell_type": "markdown",
   "metadata": {},
   "source": [
    "#### Question b\n",
    "\n",
    "The main problem here is: How to find `d` from the secret value and the counter? I fact, when we have `d` the problem is utterly easy.\n",
    "\n",
    "```\n",
    "h0 = Hash(message_0)\n",
    "h1 = Hash(message_1)\n",
    "d = Private Key (unknown to attacker)\n",
    "R  = r1 == r2\n",
    "K  = K value that was used (unknown to attacker)\n",
    "N  = integer order of G (part of public key)\n",
    "\n",
    "From Signing Defintion\n",
    "s0 = (h0 + d * R) / K Mod N\n",
    "s1 = (h1 + d * R) / K Mod N\n",
    "\n",
    "Rearrange \n",
    "K = (h0 + d * R) / s0 Mod N\n",
    "K = (h1 + d * R) / s1 Mod N\n",
    "\n",
    "Set Equal\n",
    "(h0 + d * R) / s0 = (h1 + d * R) / s1     Mod N\n",
    "\n",
    "s1*h0 + s1*d*R = s0*h1 + s0*d*R     Mod N\n",
    "\n",
    "(s1*h0 - s0*h1) / (R * (s0-s1)) = d     Mod N\n",
    "\n",
    "Solve for d (private key)\n",
    "d Mod N = (s1 * h0 - s0 * h1) / (R * (s0 - s1))\n",
    "d Mod N = (s1 * h0 - s0 * h1) * (R * (s0 - s1)) ** -1\n",
    "```"
   ]
  },
  {
   "cell_type": "code",
   "execution_count": null,
   "metadata": {},
   "outputs": [],
   "source": [
    "def compute_r(EC, k, G, FF_n):\n",
    "    return FF_n((k * EC(G)).xy()[0])"
   ]
  },
  {
   "cell_type": "code",
   "execution_count": null,
   "metadata": {},
   "outputs": [],
   "source": [
    "def extract_d(ballots, FF_n):\n",
    "    assert(len(ballots) == 2)\n",
    "    msg0, r0, s0 = ballots[0]\n",
    "    msg1, r1, s1 = ballots[1]\n",
    "    \n",
    "    h0 = msg2int(msg0)\n",
    "    h1 = msg2int(msg1)\n",
    "    \n",
    "    s0 = FF_n(s0)\n",
    "    s1 = FF_n(s1)\n",
    "    \n",
    "    # Verify if the attack is feasible\n",
    "    if r0 != r1:\n",
    "        raise Exception('ERROR: the messages you provided are not sensible to this attack')\n",
    "    \n",
    "    d = (s1*h0 - s0*h1) / (r0 *(s0 - s1))\n",
    "    \n",
    "    return d"
   ]
  },
  {
   "cell_type": "code",
   "execution_count": null,
   "metadata": {},
   "outputs": [],
   "source": [
    "def compute_s(h, d, r, k, FF_n):\n",
    "    return FF_n((h + d*r)/k)"
   ]
  },
  {
   "cell_type": "code",
   "execution_count": null,
   "metadata": {},
   "outputs": [],
   "source": [
    "r = compute_r(EC, Q1b_k, Q1_G, FF_n)\n",
    "\n",
    "# Hash the message and build an integer from that\n",
    "m = 'I won this election, by a lot!'\n",
    "h = msg2int(m)\n",
    "\n",
    "# Find d\n",
    "d = extract_d(Q1b_arr, FF_n)\n",
    "\n",
    "# Compute s\n",
    "s = compute_s(h, d, r, Q1b_k, FF_n)"
   ]
  },
  {
   "cell_type": "code",
   "execution_count": null,
   "metadata": {},
   "outputs": [],
   "source": [
    "print('r =', r)\n",
    "print('s =', s)"
   ]
  },
  {
   "cell_type": "markdown",
   "metadata": {},
   "source": [
    "---\n",
    "\n",
    "### Ex 2"
   ]
  },
  {
   "cell_type": "markdown",
   "metadata": {},
   "source": [
    "Provided parameters:\n",
    "* `Q2_ct`: 18564 bytes\n",
    "* `Q2_k`: composite int\n",
    "* `Q2_n`: int the cardinality of the elliptic curve E, where Q2_n > Q2_p\n",
    "* `Q2_p`: PRIME int characteristic of the field. Q2_p = Q2_n - 1\n",
    "* `Q2_pt`: SOLUTION string message\n",
    "\n",
    "The parameters `l` and `r1` are badly chosen!\n",
    "\n",
    "The $j$-invariant is either 1728 or 0. It implies that the EC defined as $y^2 = x^3 + ax + b$ has either $a=0$ or $b=0$\n",
    "\n",
    "The additive order of any point on the EC is Q2_p\n",
    "\n",
    "I think that the trick for the ex2 is to find the order of P. \n",
    "The trick here is that the key has a point of symmetry. If P has order k then the value of x is the same for kP+i and kP-i.\n",
    "So if this point of symmetry is in the padding, then you can decrypt the message because you get the key used for to encrypt M.\n",
    "The order must divide the cardinality which has only \"small\" factors here.\n",
    "Except 2 and 3, each factor of n is bigger than l.\n",
    "\n",
    "The order of this elliptic curve is p+1 and is not a prime.\n",
    "\n",
    "\n",
    "why symmetry？not period？\n",
    "It's also true for the period, but we can't use it here since the prime factors of n are too big to see the period in the encryption"
   ]
  },
  {
   "cell_type": "code",
   "execution_count": null,
   "metadata": {},
   "outputs": [],
   "source": [
    "import base64 as b64"
   ]
  },
  {
   "cell_type": "code",
   "execution_count": null,
   "metadata": {},
   "outputs": [],
   "source": [
    "# Compute Legendre symbol of a/b\n",
    "# kronecker(a,b)"
   ]
  },
  {
   "cell_type": "markdown",
   "metadata": {},
   "source": [
    "#### SOME TESTS"
   ]
  },
  {
   "cell_type": "code",
   "execution_count": null,
   "metadata": {},
   "outputs": [],
   "source": [
    "# Transform the ct into a bit sequence\n",
    "ct_b64_decoded = b64.b64decode(Q2_ct[2:]).decode('utf-8')\n",
    "ct_bit_seq = ''.join([format(ord(e), '08b') for e in ct_b64_decoded])\n",
    "assert(len(ct_b64_decoded)*8 == len(ct_bit_seq))\n",
    "\n",
    "#Search for palindromes using sage\n",
    "w = Word(ct_bit_seq)\n",
    "palindromes = sorted(w.palindromes(), key = lambda e:e.length(), reverse=True)\n",
    "\n",
    "# Compute the location of the center of the longest palindrome\n",
    "center_longest_pal = (w.find(palindromes[0]) + floor((palindromes[0].length()-1)/2), w.find(palindromes[0]) + floor((palindromes[0].length())/2))\n",
    "print('Center longest palindrome:', center_longest_pal)"
   ]
  },
  {
   "cell_type": "code",
   "execution_count": null,
   "metadata": {},
   "outputs": [],
   "source": [
    "nb_bits_before_center = center_longest_pal[0] + 1\n",
    "nb_bits_after_center = w.length() - center_longest_pal[1]\n",
    "\n",
    "half_len_pal = min(nb_bits_before_center, nb_bits_after_center)\n",
    "\n",
    "# Split in two parts, left and right (before and after the center of the longest palindrome)\n",
    "# WARNING: don't be stupid with the center of the palindrome. You should handle that\n",
    "left = ct_bit_seq[center_longest_pal[0] + 1 - half_len_pal : center_longest_pal[0] + 1]\n",
    "right = ct_bit_seq[center_longest_pal[1] : center_longest_pal[1] + half_len_pal]\n",
    "assert(len(left) == len(right))\n",
    "assert(len(left) == half_len_pal)\n",
    "\n",
    "# XOR one part with the other one reversed\n",
    "rev_left = [int(e) for e in reversed(left)]\n",
    "right = [int(e) for e in right]\n",
    "\n",
    "\n",
    "res_xor_bits = [rev_left[i] ^^ right[i] for i in range(len(rev_left))]"
   ]
  },
  {
   "cell_type": "code",
   "execution_count": null,
   "metadata": {},
   "outputs": [],
   "source": [
    "# Bruteforce the padding to keep the message aligned\n",
    "for bit_list in [res_xor_bits, list(reversed(res_xor_bits))]:\n",
    "    for pad in range(8):\n",
    "        bit_list_padded = [0]*pad + bit_list\n",
    "        pt_byte = []\n",
    "        for byte in range(floor(len(bit_list)/8)):\n",
    "            pt_byte.append(''.join([str(i) for i in bit_list_padded[byte*8:(byte+1)*8]]))\n",
    "            \n",
    "        pt_msg = ''.join([chr(int(i,2)) for i in pt_byte])\n",
    "        print(pt_msg)\n",
    "        print('-'*60)"
   ]
  },
  {
   "cell_type": "markdown",
   "metadata": {},
   "source": [
    "---\n",
    "### Ex 3: MBCGA"
   ]
  },
  {
   "cell_type": "markdown",
   "metadata": {},
   "source": [
    "Provided parameters:\n",
    "* EX A: 3 rounds of encryption\n",
    "* `Q3a_pt`: str  of 16 char ; plaintext\n",
    "* `Q3a_k`: list of 128 int that is 0 or 1 ; The master key\n",
    "* `Q3a_R`: list of 3 matrices of size 128x128 (3x128x128). The last elements are 0 or 1 ; The affine matrices.\n",
    "* `Q3a_A`: 128x128 matrix of 0 or 1 (128x128) ; The key update matrix\n",
    "* `Q3a_ct`: SOLUTION string of 128 bits (128x\\[0,1\\])\n",
    "* \n",
    "* EX B: 2 rounds of decryption\n",
    "* `Q3b_A`: 128x128 matrix of 0 or 1 (128x128) ; The key update matrix\n",
    "* `Q3b_pt1`: str of 16 char ; plaintext 1\n",
    "* `Q3b_ct1`: string of 128 bits (128x\\[0,1\\]) ; ciphertext of pt1\n",
    "* `Q3b_R`: list of 2 matrices of size 128x128 (3x128x128). The last elements are 0 or 1 ; The affine matrices.\n",
    "* `Q3b_ct2`: string of 128 bits (128x\\[0,1\\]) ; ciphertext of pt2 ==> we search pt2\n",
    "* `Q3b_pt2`: SOLUTION str of 16 char ; plaintext \n",
    "* \n",
    "* EX C: 5 rounds of decryption\n",
    "* `Q3b_A`: 128x128 matrix of 0 or 1 (128x128) ; The key update matrix\n",
    "* `Q3b_pt1`: str of 16 char ; plaintext 1\n",
    "* `Q3b_ct1`: string of 128 bits (128x\\[0,1\\]) ; ciphertext of pt1\n",
    "* `Q3b_R`: list of 5 matrices of size 128x128 (3x128x128). The last elements are 0 or 1 ; The affine matrices.\n",
    "* `Q3b_ct2`: string of 128 bits (128x\\[0,1\\]) ; ciphertext of pt2 ==> we search pt2\n",
    "* `Q3b_pt2`: SOLUTION str of 16 char ; plaintext \n",
    "\n",
    "\n",
    "\n",
    "We are working in $Z2$\n",
    "\n",
    "Multiplication done from the left (i.e. $K_2 = A\\cdot K_1$)\n",
    "\n",
    "Rounds are indexed from 1 (i.e. $k$ starts from 1)\n",
    "\n",
    "We can import matrices with `Matrix(GF(2), L)` where `L` is a \"matrix in a list type\"\n",
    "\n",
    "$S(000) = 000$\n",
    "\n",
    "The Sbox is only applied to the first 3 bits (i.e. `state[:3]`) at each round."
   ]
  },
  {
   "cell_type": "markdown",
   "metadata": {},
   "source": [
    "#### Question a\n",
    "\n",
    "We have 3 rounds in this exercices (i.e. `Q3a_R` contains 3 matrices)"
   ]
  },
  {
   "cell_type": "code",
   "execution_count": null,
   "metadata": {},
   "outputs": [],
   "source": [
    "# Transform the message into a bit vector\n",
    "pt_bin = ''.join([format(ord(i), '08b') for i in Q3a_pt])\n",
    "pt_bin_vect = vector([int(i) for i in pt_bin])"
   ]
  },
  {
   "cell_type": "code",
   "execution_count": null,
   "metadata": {},
   "outputs": [],
   "source": [
    "def sbox(bit_vect, F8):\n",
    "    #build the function for the first 3 bits of the message. Check we get only 3 bits.\n",
    "    assert(len(bit_vect) == 3)\n",
    "    \n",
    "    if(bit_vect == vector([0]*3)):\n",
    "        return vector([0]*3)\n",
    "    \n",
    "    f_to_map = bit_vect[0] * x^2 + bit_vect[1] * x + bit_vect[2]\n",
    "    to_inverse = F8(f_to_map)\n",
    "    inv = to_inverse^(-1)\n",
    "    \n",
    "    res = inv.matrix().T[0][::-1]\n",
    "    \n",
    "    return vector([i for i in res])"
   ]
  },
  {
   "cell_type": "code",
   "execution_count": null,
   "metadata": {
    "scrolled": true
   },
   "outputs": [],
   "source": [
    "# Small test for the sbox function\n",
    "F8.<x> = GF(2**3)\n",
    "inv = sbox(vector([1,1,0]), F8) # Example: '110' = x^2 + x and its inverse is '011' = x + 1\n",
    "inv"
   ]
  },
  {
   "cell_type": "code",
   "execution_count": null,
   "metadata": {},
   "outputs": [],
   "source": [
    "def encrypt_round_k(msg_bit_vect, k, F8, affine_mats, key_update_mat, master_key_vect):\n",
    "    #print('round', k)\n",
    "    # SBox\n",
    "    res_Sbox = sbox(msg_bit_vect[:3], F8)\n",
    "    msg_Sboxed_vect = vector(list(res_Sbox) + list(msg_bit_vect[3:]))\n",
    "    assert(len(msg_Sboxed_vect) == len(msg_bit_vect))\n",
    "    assert(msg_Sboxed_vect[:3] == res_Sbox)\n",
    "    assert(msg_Sboxed_vect[3:] == msg_bit_vect[3:])\n",
    "    #print('after Sbox:', msg_Sboxed_vect)\n",
    "    \n",
    "    # Affine\n",
    "    mat = Matrix(GF(2), affine_mats[k-1])\n",
    "    res_affine = mat * msg_Sboxed_vect\n",
    "    #print('after affine:', res_affine)\n",
    "    \n",
    "    #RoundKey (start k from 1)\n",
    "    round_key = key_update_mat^k * master_key_vect\n",
    "    \n",
    "    #Compute final res\n",
    "    size = len(round_key)\n",
    "    final_res = [0]*size\n",
    "    for i in range(size):\n",
    "        final_res[i] = int(round_key[i]) ^^ int(res_affine[i])\n",
    "    \n",
    "    final_res_vect = vector(final_res)\n",
    "    #print('after roundkey:', final_res_vect)\n",
    "    \n",
    "    return final_res_vect"
   ]
  },
  {
   "cell_type": "code",
   "execution_count": null,
   "metadata": {
    "scrolled": false
   },
   "outputs": [],
   "source": [
    "F8.<x> = GF(2**3)\n",
    "master_key_vect = vector(Q3a_k)\n",
    "key_update_mat = Matrix(GF(2), Q3a_A)\n",
    "\n",
    "new_msg_vect = pt_bin_vect\n",
    "\n",
    "# DO NOT FORGET to start k=1 (i.e. k is in {1,2,3} for the three rounds)\n",
    "for round_nb in range(1,4):\n",
    "    new_msg_vect = encrypt_round_k(msg_bit_vect=new_msg_vect,\n",
    "                       k=round_nb,\n",
    "                       F8=F8,\n",
    "                       affine_mats=Q3a_R,\n",
    "                       key_update_mat=key_update_mat,\n",
    "                       master_key_vect=master_key_vect)\n",
    "        \n",
    "# Concat the vector to form a string\n",
    "final_ct = ''.join([str(i) for i in new_msg_vect])\n",
    "print(final_ct)"
   ]
  },
  {
   "cell_type": "markdown",
   "metadata": {},
   "source": [
    "#### Question b\n",
    "\n",
    "#TODO: Add explanation here\n",
    "\n",
    "Observe that $S(S(x)) = x\\implies S^{-1}(x) = S(x)$\n",
    "\n",
    "#TODO: Delete the next lines below\n",
    "\n",
    "Check online for \"Elimination Gaussienne\" (Telegram Turbo fiakZer)"
   ]
  },
  {
   "cell_type": "code",
   "execution_count": null,
   "metadata": {},
   "outputs": [],
   "source": [
    "# Initialization\n",
    "F8.<x> = GF(2**3)\n",
    "\n",
    "pt1_bin = ''.join([format(ord(i), '08b') for i in Q3b_pt1])\n",
    "pt1_bin_vect = vector([int(i) for i in pt1_bin])\n",
    "\n",
    "ct1_vect = vector([int(i) for i in Q3b_ct1])\n",
    "ct2_vect = vector([int(i) for i in Q3b_ct2])\n",
    "\n",
    "L1 = Matrix(GF(2), Q3b_R[0])\n",
    "L2 = Matrix(GF(2), Q3b_R[1])\n",
    "\n",
    "\n",
    "# Start the decryption\n",
    "pt1_affine = L1 * vector(list(sbox(pt1_bin_vect[:3], F8)) + list(pt1_bin_vect[3:]))\n",
    "\n",
    "assert(len(pt1_affine) == len(pt1_bin_vect))\n",
    "\n",
    "cts_xored = vector([ct1_vect[i] ^^ ct2_vect[i] for i in range(len(ct1_vect))])\n",
    "\n",
    "reverse_cts_affine = L2.inverse() * cts_xored\n",
    "\n",
    "for i in range(8):\n",
    "    bruteforced_1 = [int(j) for j in list(\"{0:03b}\".format(i))]\n",
    "    reverse_cts_sbox = vector( bruteforced_1 + list(reverse_cts_affine[3:]))\n",
    "\n",
    "    # By Vernam cipher\n",
    "    pt2_affine = vector([Integer(reverse_cts_sbox[i]) ^^ Integer(pt1_affine[i]) for i in range(len(reverse_cts_sbox))])\n",
    "\n",
    "    pt2_rdy_for_sbox = L1.inverse() * pt2_affine\n",
    "\n",
    "    for j in range(8):\n",
    "        bruteforced_2 = [int(l) for l in list(\"{0:03b}\".format(j))]\n",
    "        pt2 = vector(bruteforced_2 + list(pt2_rdy_for_sbox[3:]))\n",
    "\n",
    "\n",
    "        # Convert pt2 binary vector into a message\n",
    "        assert(len(pt2) == len(pt1_bin_vect))\n",
    "        pt2_byte = []\n",
    "        for byte in range(len(pt2) / 8):\n",
    "            pt2_byte.append(''.join([str(i) for i in pt2[byte*8:(byte+1)*8]]))\n",
    "\n",
    "        pt2_msg = ''.join([chr(int(i,2)) for i in pt2_byte])\n",
    "        \n",
    "        if pt2_msg.isalnum():\n",
    "            print('try {:2}:'.format(i*8+j), pt2_msg)\n",
    "    \n",
    "#TODO: Delete next line before submission\n",
    "#print(pt2_msg == Q3b_pt2)"
   ]
  },
  {
   "cell_type": "markdown",
   "metadata": {},
   "source": [
    "#### Trying with majority function"
   ]
  },
  {
   "cell_type": "code",
   "execution_count": null,
   "metadata": {},
   "outputs": [],
   "source": [
    "# Original S-box\n",
    "for i in range(8):\n",
    "    entry = vector([int(i) for i in list(\"{0:03b}\".format(i))])\n",
    "    print(entry, '=== SBOX ==>', sbox(entry, F8))"
   ]
  },
  {
   "cell_type": "code",
   "execution_count": null,
   "metadata": {},
   "outputs": [],
   "source": [
    "# Do we need that ?! How can we use the majority function to ease this problem ?!?!?\n",
    "# Here we build a sbox with the majority function and compare the output of the new S-box with the old one.\n",
    "\n",
    "def s(a,b,c):\n",
    "    ring = GF(2)\n",
    "    f_majority = ring(a*b + a*c + b*c)\n",
    "    s0 = ring(f_majority * (a+c+1) + a+b)\n",
    "    s1 = ring(f_majority * (b+c+1) + a)\n",
    "    s2 = ring(f_majority * (a+b+1) + a+b+c)\n",
    "    return vector([s0,s1,s2])\n",
    "\n",
    "for a in [0,1]:\n",
    "    for b in [0,1]:\n",
    "        for c in [0,1]:\n",
    "            old_sbox = sbox(vector([a,b,c]),F8)\n",
    "            new_sbox = s(a,b,c)\n",
    "            print([a,b,c], '==>', old_sbox, new_sbox, old_sbox == new_sbox)"
   ]
  },
  {
   "cell_type": "markdown",
   "metadata": {},
   "source": [
    "#### Question c\n",
    "\n",
    "If you can't find a linear relationship for the Sbox conditioned on the majority of the input, try looking for an affine one\n",
    "\n"
   ]
  },
  {
   "cell_type": "code",
   "execution_count": null,
   "metadata": {},
   "outputs": [],
   "source": [
    "# Initialization\n",
    "F8.<x> = GF(2**3)\n",
    "\n",
    "pt1_bin = ''.join([format(ord(i), '08b') for i in Q3c_pt1])\n",
    "pt1_bin_vect = vector([int(i) for i in pt1_bin])\n",
    "\n",
    "ct1_vect = vector([int(i) for i in Q3c_ct1])\n",
    "ct2_vect = vector([int(i) for i in Q3c_ct2])\n",
    "\n",
    "L1 = Matrix(GF(2), Q3c_R[0])\n",
    "L2 = Matrix(GF(2), Q3c_R[1])\n",
    "L3 = Matrix(GF(2), Q3c_R[2])\n",
    "L4 = Matrix(GF(2), Q3c_R[3])\n",
    "L5 = Matrix(GF(2), Q3c_R[4])\n",
    "\n",
    "L1_inv = L1.inverse()\n",
    "L2_inv = L2.inverse()\n",
    "L3_inv = L3.inverse()\n",
    "L4_inv = L4.inverse()\n",
    "L5_inv = L5.inverse()\n",
    "\n",
    "\n",
    "# Start the decryption\n",
    "pt1_affine = L1 * vector(list(sbox(pt1_bin_vect[:3], F8)) + list(pt1_bin_vect[3:]))\n",
    "\n",
    "assert(len(pt1_affine) == len(pt1_bin_vect))\n",
    "\n",
    "cts_xored = vector([ct1_vect[i] ^^ ct2_vect[i] for i in range(len(ct1_vect))])\n",
    "\n",
    "reverse_cts_affine = L5_inv * cts_xored\n",
    "\n",
    "for s5 in range(8):\n",
    "    bruteforced_1 = [int(j) for j in list(\"{0:03b}\".format(s5))]\n",
    "    reverse_cts_sbox_5 = vector( bruteforced_1 + list(reverse_cts_affine[3:]))\n",
    "\n",
    "    pt2_rdy_for_sbox_4 = L4_inv * reverse_cts_sbox_5\n",
    "\n",
    "    for s4 in range(8):\n",
    "        bruteforced_2 = [int(j) for j in list(\"{0:03b}\".format(s4))]\n",
    "        reverse_cts_sbox_4 = vector( bruteforced_2 + list(pt2_rdy_for_sbox_4[3:]))\n",
    "\n",
    "        pt2_rdy_for_sbox_3 = L3_inv * reverse_cts_sbox_4\n",
    "        \n",
    "        for s3 in range(8):\n",
    "            bruteforced_3 = [int(j) for j in list(\"{0:03b}\".format(s3))]\n",
    "            reverse_cts_sbox_3 = vector( bruteforced_3 + list(pt2_rdy_for_sbox_3[3:]))\n",
    "\n",
    "            pt2_rdy_for_sbox_2 = L2_inv * reverse_cts_sbox_3\n",
    "            \n",
    "            for s2 in range(8):\n",
    "                bruteforced_2 = [int(j) for j in list(\"{0:03b}\".format(s2))]\n",
    "                reverse_cts_sbox_2 = vector( bruteforced_2 + list(pt2_rdy_for_sbox_2[3:]))\n",
    "                \n",
    "                # By Vernam cipher\n",
    "                pt2_affine = vector([Integer(reverse_cts_sbox_2[i]) ^^ Integer(pt1_affine[i]) for i in range(len(reverse_cts_sbox_2))])\n",
    "\n",
    "                pt2_rdy_for_sbox_1 = L1_inv * pt2_affine\n",
    "                \n",
    "                for s1 in range(8):\n",
    "                    bruteforced_1 = [int(j) for j in list(\"{0:03b}\".format(s1))]\n",
    "                    pt2 = vector( bruteforced_1 + list(pt2_rdy_for_sbox_1[3:]))\n",
    "\n",
    "                    \n",
    "                    # Convert pt2 binary vector into a message\n",
    "                    assert(len(pt2) == len(pt1_bin_vect))\n",
    "                    pt2_byte = []\n",
    "                    for byte in range(len(pt2) / 8):\n",
    "                        pt2_byte.append(''.join([str(i) for i in pt2[byte*8:(byte+1)*8]]))\n",
    "\n",
    "                    pt2_msg = ''.join([chr(int(i,2)) for i in pt2_byte])\n",
    "\n",
    "                    if pt2_msg.isalnum():\n",
    "                        print('try {:2}:'.format(s1+s2*8+s3*64+s4*512+s5*4096), pt2_msg)"
   ]
  }
 ],
 "metadata": {
  "kernelspec": {
   "display_name": "SageMath 9.1",
   "language": "sage",
   "name": "sagemath"
  },
  "language_info": {
   "codemirror_mode": {
    "name": "ipython",
    "version": 3
   },
   "file_extension": ".py",
   "mimetype": "text/x-python",
   "name": "python",
   "nbconvert_exporter": "python",
   "pygments_lexer": "ipython3",
   "version": "3.7.8"
  }
 },
 "nbformat": 4,
 "nbformat_minor": 2
}
